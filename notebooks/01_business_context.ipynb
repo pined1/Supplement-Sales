{
 "cells": [
  {
   "cell_type": "markdown",
   "metadata": {},
   "source": [
    "# Supplement Sales Project\n",
    "\n",
    "My goal is to understand the data with a business drive behind so -- that means understanding what I can uncover,\n",
    "as well as following the business goals insights. \n",
    "\n",
    "\n",
    "This data set is from Kaggle :\n",
    "\n",
    "Columns:\n",
    "\n",
    "Date: The week of the sale.\n",
    "\n",
    "Product Name: The name of the supplement (e.g., Whey Protein, Vitamin C, etc.).\n",
    "\n",
    "Category: The category of the supplement (e.g., Protein, Vitamin, Omega).\n",
    "\n",
    "Units Sold: The number of units sold in that week.\n",
    "\n",
    "Price: The selling price of the product.\n",
    "\n",
    "Revenue: The total revenue generated (Units Sold * Price).\n",
    "\n",
    "Discount: The discount applied on the product (as a percentage of original price).\n",
    "\n",
    "Units Returned: The number of units returned in that week.\n",
    "\n",
    "Location: The location of the sale (USA, UK, or Canada).\n",
    "\n",
    "Platform: The e-commerce platform (Amazon, Walmart, iHerb).\n",
    "\n",
    "\n",
    "The source of the data comes from (Zahid Feroze) a freelancer on Kaggle so the authenticity of this data could be questionable... still can use skills to understand this data, which is the most important part:"
   ]
  },
  {
   "cell_type": "markdown",
   "metadata": {},
   "source": [
    "## Business-Driven Goals\n",
    "\n",
    "In the context e-commerce, my goal is to extract insights that align with how to help supplement brands grow online.\n",
    "\n",
    "Some business questions I aim to answer:\n",
    "- What categories or products are trending?\n",
    "- Which platforms drive the most revenue?\n",
    "- How do pricing and discounts affect demand?\n",
    "- Are there high-return products that could indicate customer dissatisfaction?\n"
   ]
  },
  {
   "cell_type": "markdown",
   "metadata": {},
   "source": [
    "##  Business Objective\n",
    "\n",
    "The goal is to uncover actionable insights that can improve product visibility, optimize pricing, reduce returns, and inform smarter inventory decisions across platforms like Amazon, Walmart, and iHerb.\n"
   ]
  },
  {
   "cell_type": "markdown",
   "metadata": {},
   "source": [
    "### Why This Dataset Is Valuable\n",
    "\n",
    "- Covers **multiple platforms, regions, and products** — a realistic e-commerce landscape.\n",
    "- Contains **time-series granularity (weekly)** — ideal for forecasting, seasonal trend detection.\n",
    "- Includes **behavioral signals** like returns and discount activity.\n"
   ]
  }
 ],
 "metadata": {
  "kernelspec": {
   "display_name": "Supplement-Sales-kMLlTg1n",
   "language": "python",
   "name": "python3"
  },
  "language_info": {
   "name": "python",
   "version": "3.10.16"
  }
 },
 "nbformat": 4,
 "nbformat_minor": 2
}
