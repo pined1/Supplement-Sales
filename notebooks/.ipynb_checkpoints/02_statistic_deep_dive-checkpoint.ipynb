{
 "cells": [
  {
   "cell_type": "markdown",
   "metadata": {},
   "source": [
    "## Goal of this Notebook \n",
    "\n",
    "* take a deep dive into the stats of this data"
   ]
  },
  {
   "cell_type": "code",
   "execution_count": 1,
   "metadata": {},
   "outputs": [],
   "source": [
    "# importing all import libraries to be used\n",
    "\n",
    "import pandas as pd \n",
    "import seaborn as sns"
   ]
  },
  {
   "cell_type": "code",
   "execution_count": 5,
   "metadata": {},
   "outputs": [
    {
     "name": "stdout",
     "output_type": "stream",
     "text": [
      "/Users/csuser/Masters2026/Data_Analysis_Project/Supplement-Sales/notebooks\n"
     ]
    }
   ],
   "source": [
    "# debug -- checking for working directory\n",
    "import os\n",
    "print(os.getcwd())"
   ]
  },
  {
   "cell_type": "code",
   "execution_count": 4,
   "metadata": {},
   "outputs": [
    {
     "data": {
      "text/html": [
       "<div>\n",
       "<style scoped>\n",
       "    .dataframe tbody tr th:only-of-type {\n",
       "        vertical-align: middle;\n",
       "    }\n",
       "\n",
       "    .dataframe tbody tr th {\n",
       "        vertical-align: top;\n",
       "    }\n",
       "\n",
       "    .dataframe thead th {\n",
       "        text-align: right;\n",
       "    }\n",
       "</style>\n",
       "<table border=\"1\" class=\"dataframe\">\n",
       "  <thead>\n",
       "    <tr style=\"text-align: right;\">\n",
       "      <th></th>\n",
       "      <th>Date</th>\n",
       "      <th>Product Name</th>\n",
       "      <th>Category</th>\n",
       "      <th>Units Sold</th>\n",
       "      <th>Price</th>\n",
       "      <th>Revenue</th>\n",
       "      <th>Discount</th>\n",
       "      <th>Units Returned</th>\n",
       "      <th>Location</th>\n",
       "      <th>Platform</th>\n",
       "    </tr>\n",
       "  </thead>\n",
       "  <tbody>\n",
       "    <tr>\n",
       "      <th>0</th>\n",
       "      <td>2020-01-06</td>\n",
       "      <td>Whey Protein</td>\n",
       "      <td>Protein</td>\n",
       "      <td>143</td>\n",
       "      <td>31.98</td>\n",
       "      <td>4573.14</td>\n",
       "      <td>0.03</td>\n",
       "      <td>2</td>\n",
       "      <td>Canada</td>\n",
       "      <td>Walmart</td>\n",
       "    </tr>\n",
       "    <tr>\n",
       "      <th>1</th>\n",
       "      <td>2020-01-06</td>\n",
       "      <td>Vitamin C</td>\n",
       "      <td>Vitamin</td>\n",
       "      <td>139</td>\n",
       "      <td>42.51</td>\n",
       "      <td>5908.89</td>\n",
       "      <td>0.04</td>\n",
       "      <td>0</td>\n",
       "      <td>UK</td>\n",
       "      <td>Amazon</td>\n",
       "    </tr>\n",
       "    <tr>\n",
       "      <th>2</th>\n",
       "      <td>2020-01-06</td>\n",
       "      <td>Fish Oil</td>\n",
       "      <td>Omega</td>\n",
       "      <td>161</td>\n",
       "      <td>12.91</td>\n",
       "      <td>2078.51</td>\n",
       "      <td>0.25</td>\n",
       "      <td>0</td>\n",
       "      <td>Canada</td>\n",
       "      <td>Amazon</td>\n",
       "    </tr>\n",
       "    <tr>\n",
       "      <th>3</th>\n",
       "      <td>2020-01-06</td>\n",
       "      <td>Multivitamin</td>\n",
       "      <td>Vitamin</td>\n",
       "      <td>140</td>\n",
       "      <td>16.07</td>\n",
       "      <td>2249.80</td>\n",
       "      <td>0.08</td>\n",
       "      <td>0</td>\n",
       "      <td>Canada</td>\n",
       "      <td>Walmart</td>\n",
       "    </tr>\n",
       "    <tr>\n",
       "      <th>4</th>\n",
       "      <td>2020-01-06</td>\n",
       "      <td>Pre-Workout</td>\n",
       "      <td>Performance</td>\n",
       "      <td>157</td>\n",
       "      <td>35.47</td>\n",
       "      <td>5568.79</td>\n",
       "      <td>0.25</td>\n",
       "      <td>3</td>\n",
       "      <td>Canada</td>\n",
       "      <td>iHerb</td>\n",
       "    </tr>\n",
       "  </tbody>\n",
       "</table>\n",
       "</div>"
      ],
      "text/plain": [
       "         Date  Product Name     Category  Units Sold  Price  Revenue  \\\n",
       "0  2020-01-06  Whey Protein      Protein         143  31.98  4573.14   \n",
       "1  2020-01-06     Vitamin C      Vitamin         139  42.51  5908.89   \n",
       "2  2020-01-06      Fish Oil        Omega         161  12.91  2078.51   \n",
       "3  2020-01-06  Multivitamin      Vitamin         140  16.07  2249.80   \n",
       "4  2020-01-06   Pre-Workout  Performance         157  35.47  5568.79   \n",
       "\n",
       "   Discount  Units Returned Location Platform  \n",
       "0      0.03               2   Canada  Walmart  \n",
       "1      0.04               0       UK   Amazon  \n",
       "2      0.25               0   Canada   Amazon  \n",
       "3      0.08               0   Canada  Walmart  \n",
       "4      0.25               3   Canada    iHerb  "
      ]
     },
     "execution_count": 4,
     "metadata": {},
     "output_type": "execute_result"
    }
   ],
   "source": [
    "df = pd.read_csv(\"../data/raw/Supplement_Sales_Weekly_Expanded.csv\")\n",
    "df.head()"
   ]
  },
  {
   "cell_type": "code",
   "execution_count": 6,
   "metadata": {},
   "outputs": [
    {
     "name": "stdout",
     "output_type": "stream",
     "text": [
      "<class 'pandas.core.frame.DataFrame'>\n",
      "RangeIndex: 4384 entries, 0 to 4383\n",
      "Data columns (total 10 columns):\n",
      " #   Column          Non-Null Count  Dtype  \n",
      "---  ------          --------------  -----  \n",
      " 0   Date            4384 non-null   object \n",
      " 1   Product Name    4384 non-null   object \n",
      " 2   Category        4384 non-null   object \n",
      " 3   Units Sold      4384 non-null   int64  \n",
      " 4   Price           4384 non-null   float64\n",
      " 5   Revenue         4384 non-null   float64\n",
      " 6   Discount        4384 non-null   float64\n",
      " 7   Units Returned  4384 non-null   int64  \n",
      " 8   Location        4384 non-null   object \n",
      " 9   Platform        4384 non-null   object \n",
      "dtypes: float64(3), int64(2), object(5)\n",
      "memory usage: 342.6+ KB\n"
     ]
    }
   ],
   "source": [
    "df.info()"
   ]
  },
  {
   "cell_type": "code",
   "execution_count": 7,
   "metadata": {},
   "outputs": [],
   "source": [
    "# need to convert Date to datetime object for future uses i.e.. time series or rolling averages\n",
    "df[\"Date\"] = pd.to_datetime(df[\"Date\"])"
   ]
  },
  {
   "cell_type": "code",
   "execution_count": 8,
   "metadata": {},
   "outputs": [
    {
     "data": {
      "text/html": [
       "<div>\n",
       "<style scoped>\n",
       "    .dataframe tbody tr th:only-of-type {\n",
       "        vertical-align: middle;\n",
       "    }\n",
       "\n",
       "    .dataframe tbody tr th {\n",
       "        vertical-align: top;\n",
       "    }\n",
       "\n",
       "    .dataframe thead th {\n",
       "        text-align: right;\n",
       "    }\n",
       "</style>\n",
       "<table border=\"1\" class=\"dataframe\">\n",
       "  <thead>\n",
       "    <tr style=\"text-align: right;\">\n",
       "      <th></th>\n",
       "      <th>Date</th>\n",
       "      <th>Product Name</th>\n",
       "      <th>Category</th>\n",
       "      <th>Units Sold</th>\n",
       "      <th>Price</th>\n",
       "      <th>Revenue</th>\n",
       "      <th>Discount</th>\n",
       "      <th>Units Returned</th>\n",
       "      <th>Location</th>\n",
       "      <th>Platform</th>\n",
       "    </tr>\n",
       "  </thead>\n",
       "  <tbody>\n",
       "    <tr>\n",
       "      <th>count</th>\n",
       "      <td>4384</td>\n",
       "      <td>4384</td>\n",
       "      <td>4384</td>\n",
       "      <td>4384.000000</td>\n",
       "      <td>4384.000000</td>\n",
       "      <td>4384.000000</td>\n",
       "      <td>4384.000000</td>\n",
       "      <td>4384.000000</td>\n",
       "      <td>4384</td>\n",
       "      <td>4384</td>\n",
       "    </tr>\n",
       "    <tr>\n",
       "      <th>unique</th>\n",
       "      <td>NaN</td>\n",
       "      <td>16</td>\n",
       "      <td>10</td>\n",
       "      <td>NaN</td>\n",
       "      <td>NaN</td>\n",
       "      <td>NaN</td>\n",
       "      <td>NaN</td>\n",
       "      <td>NaN</td>\n",
       "      <td>3</td>\n",
       "      <td>3</td>\n",
       "    </tr>\n",
       "    <tr>\n",
       "      <th>top</th>\n",
       "      <td>NaN</td>\n",
       "      <td>Whey Protein</td>\n",
       "      <td>Vitamin</td>\n",
       "      <td>NaN</td>\n",
       "      <td>NaN</td>\n",
       "      <td>NaN</td>\n",
       "      <td>NaN</td>\n",
       "      <td>NaN</td>\n",
       "      <td>Canada</td>\n",
       "      <td>iHerb</td>\n",
       "    </tr>\n",
       "    <tr>\n",
       "      <th>freq</th>\n",
       "      <td>NaN</td>\n",
       "      <td>274</td>\n",
       "      <td>822</td>\n",
       "      <td>NaN</td>\n",
       "      <td>NaN</td>\n",
       "      <td>NaN</td>\n",
       "      <td>NaN</td>\n",
       "      <td>NaN</td>\n",
       "      <td>1507</td>\n",
       "      <td>1499</td>\n",
       "    </tr>\n",
       "    <tr>\n",
       "      <th>mean</th>\n",
       "      <td>2022-08-18 12:00:00</td>\n",
       "      <td>NaN</td>\n",
       "      <td>NaN</td>\n",
       "      <td>150.200274</td>\n",
       "      <td>34.781229</td>\n",
       "      <td>5226.569446</td>\n",
       "      <td>0.124398</td>\n",
       "      <td>1.531478</td>\n",
       "      <td>NaN</td>\n",
       "      <td>NaN</td>\n",
       "    </tr>\n",
       "    <tr>\n",
       "      <th>min</th>\n",
       "      <td>2020-01-06 00:00:00</td>\n",
       "      <td>NaN</td>\n",
       "      <td>NaN</td>\n",
       "      <td>103.000000</td>\n",
       "      <td>10.000000</td>\n",
       "      <td>1284.000000</td>\n",
       "      <td>0.000000</td>\n",
       "      <td>0.000000</td>\n",
       "      <td>NaN</td>\n",
       "      <td>NaN</td>\n",
       "    </tr>\n",
       "    <tr>\n",
       "      <th>25%</th>\n",
       "      <td>2021-04-26 00:00:00</td>\n",
       "      <td>NaN</td>\n",
       "      <td>NaN</td>\n",
       "      <td>142.000000</td>\n",
       "      <td>22.597500</td>\n",
       "      <td>3349.372500</td>\n",
       "      <td>0.060000</td>\n",
       "      <td>1.000000</td>\n",
       "      <td>NaN</td>\n",
       "      <td>NaN</td>\n",
       "    </tr>\n",
       "    <tr>\n",
       "      <th>50%</th>\n",
       "      <td>2022-08-18 12:00:00</td>\n",
       "      <td>NaN</td>\n",
       "      <td>NaN</td>\n",
       "      <td>150.000000</td>\n",
       "      <td>34.720000</td>\n",
       "      <td>5173.140000</td>\n",
       "      <td>0.120000</td>\n",
       "      <td>1.000000</td>\n",
       "      <td>NaN</td>\n",
       "      <td>NaN</td>\n",
       "    </tr>\n",
       "    <tr>\n",
       "      <th>75%</th>\n",
       "      <td>2023-12-11 00:00:00</td>\n",
       "      <td>NaN</td>\n",
       "      <td>NaN</td>\n",
       "      <td>158.000000</td>\n",
       "      <td>46.712500</td>\n",
       "      <td>7009.960000</td>\n",
       "      <td>0.190000</td>\n",
       "      <td>2.000000</td>\n",
       "      <td>NaN</td>\n",
       "      <td>NaN</td>\n",
       "    </tr>\n",
       "    <tr>\n",
       "      <th>max</th>\n",
       "      <td>2025-03-31 00:00:00</td>\n",
       "      <td>NaN</td>\n",
       "      <td>NaN</td>\n",
       "      <td>194.000000</td>\n",
       "      <td>59.970000</td>\n",
       "      <td>10761.850000</td>\n",
       "      <td>0.250000</td>\n",
       "      <td>8.000000</td>\n",
       "      <td>NaN</td>\n",
       "      <td>NaN</td>\n",
       "    </tr>\n",
       "    <tr>\n",
       "      <th>std</th>\n",
       "      <td>NaN</td>\n",
       "      <td>NaN</td>\n",
       "      <td>NaN</td>\n",
       "      <td>12.396099</td>\n",
       "      <td>14.198309</td>\n",
       "      <td>2192.491946</td>\n",
       "      <td>0.071792</td>\n",
       "      <td>1.258479</td>\n",
       "      <td>NaN</td>\n",
       "      <td>NaN</td>\n",
       "    </tr>\n",
       "  </tbody>\n",
       "</table>\n",
       "</div>"
      ],
      "text/plain": [
       "                       Date  Product Name Category   Units Sold        Price  \\\n",
       "count                  4384          4384     4384  4384.000000  4384.000000   \n",
       "unique                  NaN            16       10          NaN          NaN   \n",
       "top                     NaN  Whey Protein  Vitamin          NaN          NaN   \n",
       "freq                    NaN           274      822          NaN          NaN   \n",
       "mean    2022-08-18 12:00:00           NaN      NaN   150.200274    34.781229   \n",
       "min     2020-01-06 00:00:00           NaN      NaN   103.000000    10.000000   \n",
       "25%     2021-04-26 00:00:00           NaN      NaN   142.000000    22.597500   \n",
       "50%     2022-08-18 12:00:00           NaN      NaN   150.000000    34.720000   \n",
       "75%     2023-12-11 00:00:00           NaN      NaN   158.000000    46.712500   \n",
       "max     2025-03-31 00:00:00           NaN      NaN   194.000000    59.970000   \n",
       "std                     NaN           NaN      NaN    12.396099    14.198309   \n",
       "\n",
       "             Revenue     Discount  Units Returned Location Platform  \n",
       "count    4384.000000  4384.000000     4384.000000     4384     4384  \n",
       "unique           NaN          NaN             NaN        3        3  \n",
       "top              NaN          NaN             NaN   Canada    iHerb  \n",
       "freq             NaN          NaN             NaN     1507     1499  \n",
       "mean     5226.569446     0.124398        1.531478      NaN      NaN  \n",
       "min      1284.000000     0.000000        0.000000      NaN      NaN  \n",
       "25%      3349.372500     0.060000        1.000000      NaN      NaN  \n",
       "50%      5173.140000     0.120000        1.000000      NaN      NaN  \n",
       "75%      7009.960000     0.190000        2.000000      NaN      NaN  \n",
       "max     10761.850000     0.250000        8.000000      NaN      NaN  \n",
       "std      2192.491946     0.071792        1.258479      NaN      NaN  "
      ]
     },
     "execution_count": 8,
     "metadata": {},
     "output_type": "execute_result"
    }
   ],
   "source": [
    "# snapshot of the data using the .descirbe  method\n",
    "df.describe(include=\"all\")"
   ]
  },
  {
   "cell_type": "code",
   "execution_count": 14,
   "metadata": {},
   "outputs": [
    {
     "data": {
      "text/plain": [
       "Category\n",
       "Herbal         151.124088\n",
       "Omega          150.821168\n",
       "Performance    150.589416\n",
       "Mineral        150.447689\n",
       "Sleep Aid      150.237226\n",
       "Vitamin        150.163017\n",
       "Hydration      149.872263\n",
       "Protein        149.854015\n",
       "Amino Acid     149.733577\n",
       "Fat Burner     148.697080\n",
       "Name: Units Sold, dtype: float64"
      ]
     },
     "execution_count": 14,
     "metadata": {},
     "output_type": "execute_result"
    }
   ],
   "source": [
    "# going to look into more information by 'Category' in the data\n",
    "# first will look units sold by category\n",
    "# average mean / number of units sold per category\n",
    "\n",
    "import matplotlib.pyplot as plt\n",
    "\n",
    "avg_units = df.groupby(\"Category\")[\"Units Sold\"].mean().sort_values(ascending=False)\n",
    "avg_units"
   ]
  },
  {
   "cell_type": "code",
   "execution_count": 15,
   "metadata": {},
   "outputs": [
    {
     "data": {
      "text/plain": [
       "Category\n",
       "Vitamin        822\n",
       "Mineral        822\n",
       "Protein        548\n",
       "Performance    548\n",
       "Omega          274\n",
       "Amino Acid     274\n",
       "Herbal         274\n",
       "Sleep Aid      274\n",
       "Fat Burner     274\n",
       "Hydration      274\n",
       "Name: count, dtype: int64"
      ]
     },
     "execution_count": 15,
     "metadata": {},
     "output_type": "execute_result"
    }
   ],
   "source": [
    "# checking the amount of values of each supplements:\n",
    "df[\"Category\"].value_counts()\n"
   ]
  },
  {
   "cell_type": "code",
   "execution_count": null,
   "metadata": {},
   "outputs": [
    {
     "data": {
      "text/html": [
       "<div>\n",
       "<style scoped>\n",
       "    .dataframe tbody tr th:only-of-type {\n",
       "        vertical-align: middle;\n",
       "    }\n",
       "\n",
       "    .dataframe tbody tr th {\n",
       "        vertical-align: top;\n",
       "    }\n",
       "\n",
       "    .dataframe thead th {\n",
       "        text-align: right;\n",
       "    }\n",
       "</style>\n",
       "<table border=\"1\" class=\"dataframe\">\n",
       "  <thead>\n",
       "    <tr style=\"text-align: right;\">\n",
       "      <th></th>\n",
       "      <th>Category</th>\n",
       "      <th>Count</th>\n",
       "      <th>Avg Units Sold</th>\n",
       "    </tr>\n",
       "  </thead>\n",
       "  <tbody>\n",
       "    <tr>\n",
       "      <th>0</th>\n",
       "      <td>Vitamin</td>\n",
       "      <td>822</td>\n",
       "      <td>150.163017</td>\n",
       "    </tr>\n",
       "    <tr>\n",
       "      <th>1</th>\n",
       "      <td>Mineral</td>\n",
       "      <td>822</td>\n",
       "      <td>150.447689</td>\n",
       "    </tr>\n",
       "    <tr>\n",
       "      <th>2</th>\n",
       "      <td>Protein</td>\n",
       "      <td>548</td>\n",
       "      <td>149.854015</td>\n",
       "    </tr>\n",
       "    <tr>\n",
       "      <th>3</th>\n",
       "      <td>Performance</td>\n",
       "      <td>548</td>\n",
       "      <td>150.589416</td>\n",
       "    </tr>\n",
       "    <tr>\n",
       "      <th>4</th>\n",
       "      <td>Omega</td>\n",
       "      <td>274</td>\n",
       "      <td>150.821168</td>\n",
       "    </tr>\n",
       "    <tr>\n",
       "      <th>5</th>\n",
       "      <td>Amino Acid</td>\n",
       "      <td>274</td>\n",
       "      <td>149.733577</td>\n",
       "    </tr>\n",
       "    <tr>\n",
       "      <th>6</th>\n",
       "      <td>Herbal</td>\n",
       "      <td>274</td>\n",
       "      <td>151.124088</td>\n",
       "    </tr>\n",
       "    <tr>\n",
       "      <th>7</th>\n",
       "      <td>Sleep Aid</td>\n",
       "      <td>274</td>\n",
       "      <td>150.237226</td>\n",
       "    </tr>\n",
       "    <tr>\n",
       "      <th>8</th>\n",
       "      <td>Fat Burner</td>\n",
       "      <td>274</td>\n",
       "      <td>148.697080</td>\n",
       "    </tr>\n",
       "    <tr>\n",
       "      <th>9</th>\n",
       "      <td>Hydration</td>\n",
       "      <td>274</td>\n",
       "      <td>149.872263</td>\n",
       "    </tr>\n",
       "  </tbody>\n",
       "</table>\n",
       "</div>"
      ],
      "text/plain": [
       "      Category  Count  Avg Units Sold\n",
       "0      Vitamin    822      150.163017\n",
       "1      Mineral    822      150.447689\n",
       "2      Protein    548      149.854015\n",
       "3  Performance    548      150.589416\n",
       "4        Omega    274      150.821168\n",
       "5   Amino Acid    274      149.733577\n",
       "6       Herbal    274      151.124088\n",
       "7    Sleep Aid    274      150.237226\n",
       "8   Fat Burner    274      148.697080\n",
       "9    Hydration    274      149.872263"
      ]
     },
     "execution_count": 16,
     "metadata": {},
     "output_type": "execute_result"
    }
   ],
   "source": [
    "# From this understanding - there are more of one category but checking \n",
    "# if its undersampled in the data\n",
    "# Is there a category that’s frequent but performs poorly? (→ might need review)\n",
    "# Is there a rare category that performs well? (→ maybe needs marketing push?)\n",
    "\n",
    "\n",
    "df_1 = pd.DataFrame({\n",
    "    \"Category\": [\"Vitamin\", \"Mineral\", \"Protein\", \"Performance\", \"Omega\", \"Amino Acid\", \"Herbal\", \"Sleep Aid\", \"Fat Burner\", \"Hydration\"],\n",
    "    \"Count\": [822, 822, 548, 548, 274, 274, 274, 274, 274, 274],\n",
    "    \"Avg Units Sold\": [150.163017, 150.447689, 149.854015, 150.589416, 150.821168, 149.733577, 151.124088, 150.237226, 148.697080, 149.872263]\n",
    "})\n",
    "\n",
    "df_1\n"
   ]
  },
  {
   "cell_type": "code",
   "execution_count": 19,
   "metadata": {},
   "outputs": [
    {
     "data": {
      "text/html": [
       "<div>\n",
       "<style scoped>\n",
       "    .dataframe tbody tr th:only-of-type {\n",
       "        vertical-align: middle;\n",
       "    }\n",
       "\n",
       "    .dataframe tbody tr th {\n",
       "        vertical-align: top;\n",
       "    }\n",
       "\n",
       "    .dataframe thead th {\n",
       "        text-align: right;\n",
       "    }\n",
       "</style>\n",
       "<table border=\"1\" class=\"dataframe\">\n",
       "  <thead>\n",
       "    <tr style=\"text-align: right;\">\n",
       "      <th></th>\n",
       "      <th>Category</th>\n",
       "      <th>Count</th>\n",
       "      <th>Avg Units Sold</th>\n",
       "      <th>Z-Score (Count)</th>\n",
       "      <th>Z-Score (Avg Units Sold)</th>\n",
       "    </tr>\n",
       "  </thead>\n",
       "  <tbody>\n",
       "    <tr>\n",
       "      <th>0</th>\n",
       "      <td>Vitamin</td>\n",
       "      <td>822</td>\n",
       "      <td>150.163017</td>\n",
       "      <td>1.75</td>\n",
       "      <td>0.014089</td>\n",
       "    </tr>\n",
       "    <tr>\n",
       "      <th>1</th>\n",
       "      <td>Mineral</td>\n",
       "      <td>822</td>\n",
       "      <td>150.447689</td>\n",
       "      <td>1.75</td>\n",
       "      <td>0.456639</td>\n",
       "    </tr>\n",
       "    <tr>\n",
       "      <th>2</th>\n",
       "      <td>Protein</td>\n",
       "      <td>548</td>\n",
       "      <td>149.854015</td>\n",
       "      <td>0.50</td>\n",
       "      <td>-0.466283</td>\n",
       "    </tr>\n",
       "    <tr>\n",
       "      <th>3</th>\n",
       "      <td>Performance</td>\n",
       "      <td>548</td>\n",
       "      <td>150.589416</td>\n",
       "      <td>0.50</td>\n",
       "      <td>0.676967</td>\n",
       "    </tr>\n",
       "    <tr>\n",
       "      <th>4</th>\n",
       "      <td>Omega</td>\n",
       "      <td>274</td>\n",
       "      <td>150.821168</td>\n",
       "      <td>-0.75</td>\n",
       "      <td>1.037247</td>\n",
       "    </tr>\n",
       "    <tr>\n",
       "      <th>5</th>\n",
       "      <td>Amino Acid</td>\n",
       "      <td>274</td>\n",
       "      <td>149.733577</td>\n",
       "      <td>-0.75</td>\n",
       "      <td>-0.653515</td>\n",
       "    </tr>\n",
       "    <tr>\n",
       "      <th>6</th>\n",
       "      <td>Herbal</td>\n",
       "      <td>274</td>\n",
       "      <td>151.124088</td>\n",
       "      <td>-0.75</td>\n",
       "      <td>1.508164</td>\n",
       "    </tr>\n",
       "    <tr>\n",
       "      <th>7</th>\n",
       "      <td>Sleep Aid</td>\n",
       "      <td>274</td>\n",
       "      <td>150.237226</td>\n",
       "      <td>-0.75</td>\n",
       "      <td>0.129454</td>\n",
       "    </tr>\n",
       "    <tr>\n",
       "      <th>8</th>\n",
       "      <td>Fat Burner</td>\n",
       "      <td>274</td>\n",
       "      <td>148.697080</td>\n",
       "      <td>-0.75</td>\n",
       "      <td>-2.264847</td>\n",
       "    </tr>\n",
       "    <tr>\n",
       "      <th>9</th>\n",
       "      <td>Hydration</td>\n",
       "      <td>274</td>\n",
       "      <td>149.872263</td>\n",
       "      <td>-0.75</td>\n",
       "      <td>-0.437915</td>\n",
       "    </tr>\n",
       "  </tbody>\n",
       "</table>\n",
       "</div>"
      ],
      "text/plain": [
       "      Category  Count  Avg Units Sold  Z-Score (Count)  \\\n",
       "0      Vitamin    822      150.163017             1.75   \n",
       "1      Mineral    822      150.447689             1.75   \n",
       "2      Protein    548      149.854015             0.50   \n",
       "3  Performance    548      150.589416             0.50   \n",
       "4        Omega    274      150.821168            -0.75   \n",
       "5   Amino Acid    274      149.733577            -0.75   \n",
       "6       Herbal    274      151.124088            -0.75   \n",
       "7    Sleep Aid    274      150.237226            -0.75   \n",
       "8   Fat Burner    274      148.697080            -0.75   \n",
       "9    Hydration    274      149.872263            -0.75   \n",
       "\n",
       "   Z-Score (Avg Units Sold)  \n",
       "0                  0.014089  \n",
       "1                  0.456639  \n",
       "2                 -0.466283  \n",
       "3                  0.676967  \n",
       "4                  1.037247  \n",
       "5                 -0.653515  \n",
       "6                  1.508164  \n",
       "7                  0.129454  \n",
       "8                 -2.264847  \n",
       "9                 -0.437915  "
      ]
     },
     "execution_count": 19,
     "metadata": {},
     "output_type": "execute_result"
    }
   ],
   "source": [
    "# checking z - score \n",
    "# Z-score ≈ 0 → near average\n",
    "# Z-score > 1 → significantly above average (either high count or strong sales)\n",
    "# Z-score < -1 → significantly below average\n",
    "from scipy.stats import zscore\n",
    "\n",
    "df_1[\"Z-Score (Count)\"] = zscore(df_1[\"Count\"])\n",
    "df_1[\"Z-Score (Avg Units Sold)\"] = zscore(df_1[\"Avg Units Sold\"])\n",
    "\n",
    "df_1\n"
   ]
  },
  {
   "cell_type": "code",
   "execution_count": 20,
   "metadata": {},
   "outputs": [
    {
     "name": "stderr",
     "output_type": "stream",
     "text": [
      "/var/folders/4_/bjg3p3m57cvg75xsyv2k50pw0000gp/T/ipykernel_62919/753733891.py:9: UserWarning: set_ticklabels() should only be used with a fixed number of ticks, i.e. after set_ticks() or using a FixedLocator.\n",
      "  ax1.set_xticklabels(df_1[\"Category\"], rotation=45)\n"
     ]
    },
    {
     "data": {
      "image/png": "[encoded data removed]",
      "text/plain": [
       "<Figure size 1500x800 with 2 Axes>"
      ]
     },
     "metadata": {},
     "output_type": "display_data"
    }
   ],
   "source": [
    "# plotting the zscore on chart w(bar chart and line chart on second axis)\n",
    "fig, ax1 = plt.subplots(figsize=(15, 8))\n",
    "\n",
    "\n",
    "ax1.bar(df_1[\"Category\"], df_1[\"Count\"], color='skyblue', label='Count')\n",
    "ax1.set_xlabel(\"Category\")\n",
    "ax1.set_ylabel(\"Count\", color='skyblue')\n",
    "ax1.tick_params(axis='y', labelcolor='skyblue')\n",
    "ax1.set_xticklabels(df_1[\"Category\"], rotation=45)\n",
    "\n",
    "# Line chart for z-score on second axis\n",
    "ax2 = ax1.twinx()\n",
    "ax2.plot(df_1[\"Category\"], df_1[\"Z-Score (Avg Units Sold)\"], color='orange', marker='o', label='Z-Score (Avg Units Sold)')\n",
    "ax2.set_ylabel(\"Z-Score (Avg Units Sold)\", color='orange')\n",
    "ax2.tick_params(axis='y', labelcolor='orange')\n",
    "\n",
    "plt.title(\"Supplement Category: Count vs. Z-Score of Average Units Sold\")\n",
    "fig.tight_layout()\n",
    "plt.grid(True)\n",
    "plt.show()"
   ]
  },
  {
   "cell_type": "markdown",
   "metadata": {},
   "source": [
    "* Takeaways from this chart\n",
    "\n",
    "- Categories like \"Vitamin\" and \"Mineral\" are appearing far most often than others, despite being more frequent does not appear to out perform other categories in this dataset. \n",
    "- Herbal and Omega with lower count in the dataset has a higher z score in the dataset, consistently selling more units?? maybe MLM incentivised to sell more?? maybe the market is different? Should I keep these in my dataset since the market for selling Herbal and Omega might be way different than these other markets?\n",
    "\n",
    "\n",
    "Note: While Herbal appears to be a high-performing category, it's possible these are influenced by MLM dynamics (e.g., Herbalife), where sales patterns are not representative of organic e-commerce behavior. For business decisions or modeling purposes, this category may be excluded or flagged as a separate channel.\n",
    "\n"
   ]
  },
  {
   "cell_type": "markdown",
   "metadata": {},
   "source": [
    "* Looking into Missing DataPoints\n"
   ]
  },
  {
   "cell_type": "code",
   "execution_count": 22,
   "metadata": {},
   "outputs": [
    {
     "data": {
      "text/plain": [
       "Date              0\n",
       "Product Name      0\n",
       "Category          0\n",
       "Units Sold        0\n",
       "Price             0\n",
       "Revenue           0\n",
       "Discount          0\n",
       "Units Returned    0\n",
       "Location          0\n",
       "Platform          0\n",
       "dtype: int64"
      ]
     },
     "execution_count": 22,
     "metadata": {},
     "output_type": "execute_result"
    }
   ],
   "source": [
    "df.isnull().sum()"
   ]
  },
  {
   "cell_type": "code",
   "execution_count": 23,
   "metadata": {},
   "outputs": [
    {
     "data": {
      "text/plain": [
       "np.int64(0)"
      ]
     },
     "execution_count": 23,
     "metadata": {},
     "output_type": "execute_result"
    }
   ],
   "source": [
    "df.duplicated().sum()"
   ]
  },
  {
   "cell_type": "markdown",
   "metadata": {},
   "source": [
    "Note: No missing or duplicate items in the dataset"
   ]
  },
  {
   "cell_type": "markdown",
   "metadata": {},
   "source": [
    "## Value Counts of Categorical Columns\n",
    "\n",
    "-- checking for any imbalance in columns"
   ]
  },
  {
   "cell_type": "code",
   "execution_count": null,
   "metadata": {},
   "outputs": [
    {
     "data": {
      "text/plain": [
       "Location\n",
       "Canada    1507\n",
       "UK        1475\n",
       "USA       1402\n",
       "Name: count, dtype: int64"
      ]
     },
     "execution_count": 24,
     "metadata": {},
     "output_type": "execute_result"
    }
   ],
   "source": [
    "df['Location'].value_counts()"
   ]
  },
  {
   "cell_type": "code",
   "execution_count": 25,
   "metadata": {},
   "outputs": [
    {
     "data": {
      "text/plain": [
       "Platform\n",
       "iHerb      1499\n",
       "Amazon     1473\n",
       "Walmart    1412\n",
       "Name: count, dtype: int64"
      ]
     },
     "execution_count": 25,
     "metadata": {},
     "output_type": "execute_result"
    }
   ],
   "source": [
    "df['Platform'].value_counts()"
   ]
  }
 ],
 "metadata": {
  "kernelspec": {
   "display_name": "Supplement-Sales-kMLlTg1n",
   "language": "python",
   "name": "python3"
  },
  "language_info": {
   "codemirror_mode": {
    "name": "ipython",
    "version": 3
   },
   "file_extension": ".py",
   "mimetype": "text/x-python",
   "name": "python",
   "nbconvert_exporter": "python",
   "pygments_lexer": "ipython3",
   "version": "3.10.16"
  }
 },
 "nbformat": 4,
 "nbformat_minor": 2
}
