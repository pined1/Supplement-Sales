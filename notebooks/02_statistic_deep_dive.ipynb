{
 "cells": [
  {
   "cell_type": "markdown",
   "metadata": {},
   "source": [
    "## Goal of this Notebook \n",
    "\n",
    "* take a deep dive into the stats of this data"
   ]
  },
  {
   "cell_type": "code",
   "execution_count": 1,
   "metadata": {},
   "outputs": [],
   "source": [
    "# importing all import libraries to be used\n",
    "\n",
    "import pandas as pd \n",
    "import seaborn as sns"
   ]
  },
  {
   "cell_type": "code",
   "execution_count": 5,
   "metadata": {},
   "outputs": [
    {
     "name": "stdout",
     "output_type": "stream",
     "text": [
      "/Users/csuser/Masters2026/Data_Analysis_Project/Supplement-Sales/notebooks\n"
     ]
    }
   ],
   "source": [
    "# debug -- checking for working directory\n",
    "import os\n",
    "print(os.getcwd())"
   ]
  },
  {
   "cell_type": "code",
   "execution_count": 4,
   "metadata": {},
   "outputs": [
    {
     "data": {
      "text/html": [
       "<div>\n",
       "<style scoped>\n",
       "    .dataframe tbody tr th:only-of-type {\n",
       "        vertical-align: middle;\n",
       "    }\n",
       "\n",
       "    .dataframe tbody tr th {\n",
       "        vertical-align: top;\n",
       "    }\n",
       "\n",
       "    .dataframe thead th {\n",
       "        text-align: right;\n",
       "    }\n",
       "</style>\n",
       "<table border=\"1\" class=\"dataframe\">\n",
       "  <thead>\n",
       "    <tr style=\"text-align: right;\">\n",
       "      <th></th>\n",
       "      <th>Date</th>\n",
       "      <th>Product Name</th>\n",
       "      <th>Category</th>\n",
       "      <th>Units Sold</th>\n",
       "      <th>Price</th>\n",
       "      <th>Revenue</th>\n",
       "      <th>Discount</th>\n",
       "      <th>Units Returned</th>\n",
       "      <th>Location</th>\n",
       "      <th>Platform</th>\n",
       "    </tr>\n",
       "  </thead>\n",
       "  <tbody>\n",
       "    <tr>\n",
       "      <th>0</th>\n",
       "      <td>2020-01-06</td>\n",
       "      <td>Whey Protein</td>\n",
       "      <td>Protein</td>\n",
       "      <td>143</td>\n",
       "      <td>31.98</td>\n",
       "      <td>4573.14</td>\n",
       "      <td>0.03</td>\n",
       "      <td>2</td>\n",
       "      <td>Canada</td>\n",
       "      <td>Walmart</td>\n",
       "    </tr>\n",
       "    <tr>\n",
       "      <th>1</th>\n",
       "      <td>2020-01-06</td>\n",
       "      <td>Vitamin C</td>\n",
       "      <td>Vitamin</td>\n",
       "      <td>139</td>\n",
       "      <td>42.51</td>\n",
       "      <td>5908.89</td>\n",
       "      <td>0.04</td>\n",
       "      <td>0</td>\n",
       "      <td>UK</td>\n",
       "      <td>Amazon</td>\n",
       "    </tr>\n",
       "    <tr>\n",
       "      <th>2</th>\n",
       "      <td>2020-01-06</td>\n",
       "      <td>Fish Oil</td>\n",
       "      <td>Omega</td>\n",
       "      <td>161</td>\n",
       "      <td>12.91</td>\n",
       "      <td>2078.51</td>\n",
       "      <td>0.25</td>\n",
       "      <td>0</td>\n",
       "      <td>Canada</td>\n",
       "      <td>Amazon</td>\n",
       "    </tr>\n",
       "    <tr>\n",
       "      <th>3</th>\n",
       "      <td>2020-01-06</td>\n",
       "      <td>Multivitamin</td>\n",
       "      <td>Vitamin</td>\n",
       "      <td>140</td>\n",
       "      <td>16.07</td>\n",
       "      <td>2249.80</td>\n",
       "      <td>0.08</td>\n",
       "      <td>0</td>\n",
       "      <td>Canada</td>\n",
       "      <td>Walmart</td>\n",
       "    </tr>\n",
       "    <tr>\n",
       "      <th>4</th>\n",
       "      <td>2020-01-06</td>\n",
       "      <td>Pre-Workout</td>\n",
       "      <td>Performance</td>\n",
       "      <td>157</td>\n",
       "      <td>35.47</td>\n",
       "      <td>5568.79</td>\n",
       "      <td>0.25</td>\n",
       "      <td>3</td>\n",
       "      <td>Canada</td>\n",
       "      <td>iHerb</td>\n",
       "    </tr>\n",
       "  </tbody>\n",
       "</table>\n",
       "</div>"
      ],
      "text/plain": [
       "         Date  Product Name     Category  Units Sold  Price  Revenue  \\\n",
       "0  2020-01-06  Whey Protein      Protein         143  31.98  4573.14   \n",
       "1  2020-01-06     Vitamin C      Vitamin         139  42.51  5908.89   \n",
       "2  2020-01-06      Fish Oil        Omega         161  12.91  2078.51   \n",
       "3  2020-01-06  Multivitamin      Vitamin         140  16.07  2249.80   \n",
       "4  2020-01-06   Pre-Workout  Performance         157  35.47  5568.79   \n",
       "\n",
       "   Discount  Units Returned Location Platform  \n",
       "0      0.03               2   Canada  Walmart  \n",
       "1      0.04               0       UK   Amazon  \n",
       "2      0.25               0   Canada   Amazon  \n",
       "3      0.08               0   Canada  Walmart  \n",
       "4      0.25               3   Canada    iHerb  "
      ]
     },
     "execution_count": 4,
     "metadata": {},
     "output_type": "execute_result"
    }
   ],
   "source": [
    "df = pd.read_csv(\"../data/raw/Supplement_Sales_Weekly_Expanded.csv\")\n",
    "df.head()"
   ]
  },
  {
   "cell_type": "code",
   "execution_count": 6,
   "metadata": {},
   "outputs": [
    {
     "name": "stdout",
     "output_type": "stream",
     "text": [
      "<class 'pandas.core.frame.DataFrame'>\n",
      "RangeIndex: 4384 entries, 0 to 4383\n",
      "Data columns (total 10 columns):\n",
      " #   Column          Non-Null Count  Dtype  \n",
      "---  ------          --------------  -----  \n",
      " 0   Date            4384 non-null   object \n",
      " 1   Product Name    4384 non-null   object \n",
      " 2   Category        4384 non-null   object \n",
      " 3   Units Sold      4384 non-null   int64  \n",
      " 4   Price           4384 non-null   float64\n",
      " 5   Revenue         4384 non-null   float64\n",
      " 6   Discount        4384 non-null   float64\n",
      " 7   Units Returned  4384 non-null   int64  \n",
      " 8   Location        4384 non-null   object \n",
      " 9   Platform        4384 non-null   object \n",
      "dtypes: float64(3), int64(2), object(5)\n",
      "memory usage: 342.6+ KB\n"
     ]
    }
   ],
   "source": [
    "df.info()"
   ]
  }
 ],
 "metadata": {
  "kernelspec": {
   "display_name": "Supplement-Sales-kMLlTg1n",
   "language": "python",
   "name": "python3"
  },
  "language_info": {
   "codemirror_mode": {
    "name": "ipython",
    "version": 3
   },
   "file_extension": ".py",
   "mimetype": "text/x-python",
   "name": "python",
   "nbconvert_exporter": "python",
   "pygments_lexer": "ipython3",
   "version": "3.10.16"
  }
 },
 "nbformat": 4,
 "nbformat_minor": 2
}
